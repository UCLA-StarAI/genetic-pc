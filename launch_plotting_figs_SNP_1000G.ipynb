{
 "cells": [
  {
   "cell_type": "markdown",
   "metadata": {},
   "source": [
    "## 1. Execute one of the following cell to pick AGs results to be plotted"
   ]
  },
  {
   "cell_type": "markdown",
   "metadata": {},
   "source": [
    "### Specify \n",
    "- datasets that should be loaded, and the label you want to assign to them (eg GAN, GAN_versionXX ...)\n",
    "- output directory name (will be created if needed)\n",
    "- SNP position file(s)  \n",
    "- number of individuals to keep from each dataset (will be randomly subampled if less than the total number)"
   ]
  },
  {
   "cell_type": "markdown",
   "metadata": {},
   "source": [
    "## 2. Imports and general color dictionary"
   ]
  },
  {
   "cell_type": "code",
   "execution_count": null,
   "metadata": {},
   "outputs": [],
   "source": [
    "import seaborn as sns\n",
    "import pandas as pd\n",
    "import numpy as np\n",
    "import importlib\n",
    "import os\n",
    "from src.short import plot_utils as plu\n",
    "dirscript = 'src/short'"
   ]
  },
  {
   "cell_type": "code",
   "execution_count": null,
   "metadata": {},
   "outputs": [],
   "source": [
    "repoDIR = \"./\"\n",
    "samplesDIR = \"./data1kg\"\n",
    "DATA = \"10K\"\n",
    "# DATA = \"805\"\n",
    "nsub = 5000\n",
    "\n",
    "if DATA == \"10K\":\n",
    "    outDir = repoDIR + \"FIGS/10K/\"\n",
    "    infiles = {'Real': samplesDIR + \"/1000G_real_genomes/10K_SNP_1000G_real.hapt.test\",\n",
    "            'Truth': samplesDIR + \"/1000G_real_genomes/10K_SNP_1000G_real.hapt.train\",\n",
    "            'GAN': samplesDIR + \"/GAN_AGs/10K_SNP_GAN_AG_10800Epochs.hapt.zip\",\n",
    "            'RBM': samplesDIR + \"/RBM_AGs/10K_SNP_RBM_AG_1050epochs.hapt.zip\",\n",
    "            'HCLT': samplesDIR + \"/HCLT_AGs/\" + \"10K_SNP_HCLT_AG.hapt\"\n",
    "            }\n",
    "    realposfname = samplesDIR + \"/1000G_real_genomes/10k_SNP.legend\" \n",
    "\n",
    "elif DATA == \"805\":\n",
    "    outDir = repoDIR + \"FIGS/805/\"\n",
    "    infiles = {'Real': samplesDIR + \"/1000G_real_genomes/805_SNP_1000G_real.hapt.test\",\n",
    "            'Truth': samplesDIR + \"/1000G_real_genomes/805_SNP_1000G_real.hapt.train\",\n",
    "            'GAN': samplesDIR + \"/GAN_AGs/805_SNP_GAN_AG_20000epochs.hapt.zip\",\n",
    "            'RBM': samplesDIR + \"/RBM_AGs/805_SNP_RBM_AG_800Epochs.hapt.zip\",\n",
    "            'HCLT': samplesDIR + \"/HCLT_AGs/\" + \"805_SNP_HCLT_AG.hapt\"\n",
    "            }\n",
    "    realposfname = samplesDIR + \"/1000G_real_genomes/805_SNP.legend\" \n",
    "\n",
    "# same SNP positions for all datasets so it is just repeated for all keys:\n",
    "position_fname = {key:realposfname for key in infiles.keys()} \n",
    "\n",
    "print(\"- Datasets under study:\\n\", infiles)\n",
    "\n",
    "# same SNP positions for all datasets so it is just repeated for all keys:\n",
    "position_fname = {key:realposfname for key in infiles.keys()} "
   ]
  },
  {
   "cell_type": "code",
   "execution_count": null,
   "metadata": {},
   "outputs": [],
   "source": [
    "# General colors\n",
    "allcolpal = dict({'Real':\"#95a5a6\",\n",
    "                  'Truth': \"#95a5a6\",\n",
    "                  'GAN':\"#3498db\", \n",
    "                  'RBM':\"#e74c3c\", \n",
    "                #   'Indep': \"#2ecc71\",\n",
    "                #   'Markov': \"#a6761d\",\n",
    "                #   'HMM': 'gold',\n",
    "                #   'Strudel': 'lightpink',\n",
    "                  'HCLT': '#6a3d9a'\n",
    "              })\n",
    "\n",
    "# Update current color palette to the dataset type in infiles \n",
    "colpal =  {key:allcolpal[key] for key in infiles.keys()}\n",
    "sns.set_palette(colpal.values())\n",
    "\n",
    "sns.palplot(sns.color_palette())\n",
    "print(f\"- Output Directory for figures: {outDir}\\n\",\n",
    "      f\"- Real dataset positions: {realposfname}\\n\",\n",
    "      f\"- Sample size:{nsub}\")\n"
   ]
  },
  {
   "cell_type": "markdown",
   "metadata": {},
   "source": [
    "## 3. run notebook to plot all figures or a subset of sumstats (for faster results)"
   ]
  },
  {
   "cell_type": "code",
   "execution_count": null,
   "metadata": {},
   "outputs": [],
   "source": [
    "f\"Figures will be saved in {outDir} or its subdirectories\""
   ]
  },
  {
   "cell_type": "code",
   "execution_count": null,
   "metadata": {},
   "outputs": [],
   "source": [
    "## Print one more time the name of datasets that will be loaded\n",
    "## the path should exist otherwise you need to check that your setup is correct\n",
    "for x in [f\"- Input file {f} exists: {os.path.exists(f)}\" for f in infiles.values()]:\n",
    "    print(x)"
   ]
  },
  {
   "cell_type": "code",
   "execution_count": null,
   "metadata": {},
   "outputs": [],
   "source": [
    "# Setup options (transformations, sumstats to compute etc) and output directory (automatically derived from maintOutDir)\n",
    "\n",
    "importlib.reload(plu) # useful only if plot_utils is changed since you imported it for dev reason\n",
    "boolComputeAATS = True # if False notebook 5 will reload previously computed AATS instead of computing it\n",
    "figwi = 12 # control size of some figures \n",
    "\n",
    "# set allchecks to False for a first rapid scan\n",
    "# set to True for computing/plotting all sumstats and scores (long, better on a cluster)\n",
    "allchecks = False\n",
    "\n",
    "# pick the transformations you want to apply to the datasets\n",
    "# For no transformation choose \n",
    "# transformations=None\n",
    "transformations={'to_minor_encoding':False, 'min_af': 0, 'max_af': 1}\n",
    "\n",
    "if not transformations is None:\n",
    "    tname=';'.join([f'{k}-{v}' for k,v in transformations.items()])\n",
    "else:\n",
    "    tname = 'none'\n",
    "tname=tname + ';allchecks-' + str(int(allchecks)) + ';n-' + str(nsub)\n",
    "outDir = outDir = os.path.join(outDir, tname+'/')\n",
    "print(f\"- Figures will be saved in {outDir}\")\n",
    "if os.path.exists(outDir):\n",
    "    print('    - This directory exists, the following files might be overwritten:')\n",
    "    print('    -', os.listdir(outDir))"
   ]
  },
  {
   "cell_type": "markdown",
   "metadata": {},
   "source": [
    "### Compute summary statistics\n",
    "**You can pick which notebooks to execute** (and comment the other lines)  \n",
    "Only the **first one is mandatory**  (plotfig_utils_1_INIT.ipynb)  \n",
    "It loads datasets, applies basic transformations if asked, and initializes a few variables (such as a dictionnary of haplotypes, allele counts, fixed site vectors, etc)"
   ]
  },
  {
   "cell_type": "code",
   "execution_count": null,
   "metadata": {},
   "outputs": [],
   "source": [
    "%run -p {dirscript}/plotfig_utils_1_INIT.ipynb  # mandatory, all lines below are optional\n",
    "%run -p {dirscript}/plotfig_utils_2_AF.ipynb \n",
    "%run -p {dirscript}/plotfig_utils_3_PCA.ipynb\n",
    "%run -p {dirscript}/plotfig_utils_4_LD.ipynb"
   ]
  },
  {
   "cell_type": "code",
   "execution_count": null,
   "metadata": {},
   "outputs": [],
   "source": [
    "DIST = True\n",
    "AATS = True\n",
    "boolComputeAATS = True\n",
    "%run -p {dirscript}/plotfig_utils_5_DIST_AATS.ipynb # computationnally long"
   ]
  },
  {
   "cell_type": "code",
   "execution_count": null,
   "metadata": {},
   "outputs": [],
   "source": [
    "if allchecks:\n",
    "    %run -p {dirscript}/plotfig_utils_6_3pointcorr.ipynb  # computationnally long"
   ]
  }
 ],
 "metadata": {
  "kernelspec": {
   "display_name": "base",
   "language": "python",
   "name": "python3"
  },
  "language_info": {
   "codemirror_mode": {
    "name": "ipython",
    "version": 3
   },
   "file_extension": ".py",
   "mimetype": "text/x-python",
   "name": "python",
   "nbconvert_exporter": "python",
   "pygments_lexer": "ipython3",
   "version": "3.7.6"
  }
 },
 "nbformat": 4,
 "nbformat_minor": 4
}
