{
 "cells": [
  {
   "cell_type": "code",
   "execution_count": null,
   "metadata": {},
   "outputs": [],
   "source": [
    "import numpy as np \n",
    "import pandas as pd\n",
    "from sklearn.decomposition import PCA\n",
    "import plot_utils as plu\n",
    "import numpy as np \n",
    "import matplotlib.pyplot as plt\n",
    "import seaborn as sns\n",
    "import plot_utils as plu"
   ]
  },
  {
   "cell_type": "markdown",
   "metadata": {
    "toc-hr-collapsed": true
   },
   "source": [
    "## PCA"
   ]
  },
  {
   "cell_type": "markdown",
   "metadata": {
    "toc-hr-collapsed": true
   },
   "source": [
    "### Compute PCs"
   ]
  },
  {
   "cell_type": "markdown",
   "metadata": {
    "toc-hr-collapsed": false
   },
   "source": [
    "#### Using scikit-learn regular PCA\n",
    "- combined_PCA: all datasets are merged and PCA is computed once\n",
    "- coupled_PCA: for each generated dataset, merge with the real dataset and compute PCA\n",
    "- independent_PCA: PCA on each dataset separately (not even merged with real)\n"
   ]
  },
  {
   "cell_type": "markdown",
   "metadata": {},
   "source": [
    "For each type of PCA, output:\n",
    "- separated scatterplots\n",
    "- superpose scatterplot (generated overlayed on top of gray Real)\n",
    "- density plots of the PC scores\n",
    "- computing distance between real and generated scores (eg wasserstein distance)"
   ]
  },
  {
   "cell_type": "code",
   "execution_count": null,
   "metadata": {},
   "outputs": [],
   "source": [
    "print()\n",
    "print(\"#################### PCA ####################\")\n",
    "print(\"- Computing and plotting PCA...\")"
   ]
  },
  {
   "cell_type": "code",
   "execution_count": null,
   "metadata": {},
   "outputs": [],
   "source": [
    "scorelist = []\n",
    "ncomp=6 # change to compute more PCs"
   ]
  },
  {
   "cell_type": "code",
   "execution_count": null,
   "metadata": {},
   "outputs": [],
   "source": [
    "if matching_SNPs:\n",
    "    methodname=\"Combined PCA\"\n",
    "    method='combined_PCA'\n",
    "    print(f'    - Computing and plotting {methodname} ...')\n",
    "    pca = PCA(n_components=ncomp)\n",
    "    pcs = pca.fit_transform(\n",
    "        np.concatenate(list(datasets.values()))\n",
    "        )\n",
    "    pcdf = pd.DataFrame(pcs, columns=[\"PC{}\".format(x+1) for x in np.arange(pcs.shape[1])] )\n",
    "    pcdf[\"label\"] = sampleinfo.label.astype('category')\n",
    "    plu.plotPCAallfigs(pcdf, methodname, orderedCat=infiles.keys(), outDir=outDir, colpal=colpal)\n",
    "    plt.show()"
   ]
  },
  {
   "cell_type": "code",
   "execution_count": null,
   "metadata": {},
   "outputs": [],
   "source": [
    "\n",
    "methodname=\"Coupled PCA\"\n",
    "method='coupled_PCA'\n",
    "print(f'Computing {methodname} ...')\n",
    "nReal = datasets['Real'].shape[0]\n",
    "pcdf=pd.DataFrame()\n",
    "for cat in categ:\n",
    "    pca = PCA(n_components=ncomp)\n",
    "    pcs = pca.fit_transform(\n",
    "        np.concatenate([datasets['Real'],datasets[cat]])\n",
    "    ) # PCA on combined Real + cat individuals\n",
    "    #df = pd.DataFrame(pcs[nReal:,:], columns=[\"PC{}\".format(x+1) for x in np.arange(pcs.shape[1])]) #keep only pc values for individuals in cat\n",
    "    #df.insert(ncomp,'label',cat)\n",
    "    df = pd.DataFrame(pcs, columns=[\"PC{}\".format(x+1) for x in np.arange(pcs.shape[1])]) #keep only pc values for individuals in cat\n",
    "    df['label']=np.concatenate([['Real']*nReal,[cat]*datasets[cat].shape[0]])\n",
    "    df['coupled_with'] = cat\n",
    "    pcdf = pd.concat( [pcdf, df], ignore_index=True)\n",
    "    \n",
    "# plot all PCA figures and compute KS \n",
    "plu.plotPCAallfigs(pcdf, methodname, orderedCat=infiles.keys(), outDir=outDir, colpal=colpal)\n",
    "plt.show()\n",
    "    \n",
    "\n",
    "k = plu.computePCAdist(pcdf,method,outDir,stat='wasserstein')\n",
    "scorelist.append(k)\n",
    "print('Scorelist-wasserstein', k)\n",
    "plt.show()\n",
    "\n",
    "k = plu.computePCAdist(pcdf, method, outDir, stat='wasserstein2D',reg=1e-3) \n",
    "scorelist.append(k)\n",
    "print('Scorelist-wasserstein2D', k)"
   ]
  },
  {
   "cell_type": "code",
   "execution_count": null,
   "metadata": {},
   "outputs": [],
   "source": [
    "if allchecks or not matching_SNPs: \n",
    "    # compute if not matching_SNPs even if not allchecks \n",
    "    # because combined or coupled PCA are not possible in this case\n",
    "    methodname=\"Independent PCA\"\n",
    "    method='independent_PCA'\n",
    "    print(f'Computing {methodname} ...')\n",
    "    pcdf=pd.DataFrame()\n",
    "    for cat in categ:\n",
    "        pca = PCA(n_components=ncomp)\n",
    "        pcs = pca.fit_transform(datasets[cat])\n",
    "        df = pd.DataFrame(pcs, columns=[\"PC{}\".format(x+1) for x in np.arange(pcs.shape[1])])\n",
    "        df.insert(ncomp,'label',cat)\n",
    "        pcdf = pd.concat( [pcdf, df], ignore_index=True)\n",
    "\n",
    "    # plot all PCA figures  \n",
    "    plu.plotPCAallfigs(pcdf, methodname, orderedCat=infiles.keys(), outDir=outDir, colpal=colpal)\n"
   ]
  },
  {
   "cell_type": "code",
   "execution_count": null,
   "metadata": {},
   "outputs": [],
   "source": [
    "\n",
    "scores_pca = pd.concat(scorelist, sort=False)\n",
    "scores_pca.to_csv(outDir+'scores_all_PCA.csv')\n",
    "\n",
    "# average scores (distances) accross PC axes\n",
    "sc_sum_over_PCs = scores_pca.groupby(['method','stat','label'])['statistic'].sum()\n",
    "sc_mean_over_PCs = scores_pca.groupby(['method','stat','label'])['statistic'].mean()\n",
    "print(sc_mean_over_PCs)"
   ]
  },
  {
   "cell_type": "code",
   "execution_count": null,
   "metadata": {},
   "outputs": [],
   "source": [
    "print(\"#################### PCA DONE ####################\")"
   ]
  },
  {
   "cell_type": "code",
   "execution_count": null,
   "metadata": {},
   "outputs": [],
   "source": []
  }
 ],
 "metadata": {
  "kernelspec": {
   "display_name": "DEV",
   "language": "python",
   "name": "dev"
  },
  "language_info": {
   "codemirror_mode": {
    "name": "ipython",
    "version": 3
   },
   "file_extension": ".py",
   "mimetype": "text/x-python",
   "name": "python",
   "nbconvert_exporter": "python",
   "pygments_lexer": "ipython3",
   "version": "3.7.3"
  },
  "toc-autonumbering": false,
  "toc-showmarkdowntxt": false
 },
 "nbformat": 4,
 "nbformat_minor": 2
}
