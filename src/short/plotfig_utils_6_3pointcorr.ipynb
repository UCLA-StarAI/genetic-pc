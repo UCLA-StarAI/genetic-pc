{
 "cells": [
  {
   "cell_type": "code",
   "execution_count": null,
   "metadata": {},
   "outputs": [],
   "source": [
    "import itertools\n",
    "import random\n",
    "import numpy as np\n",
    "import pickle\n",
    "import plot_utils as plu"
   ]
  },
  {
   "cell_type": "markdown",
   "metadata": {},
   "source": [
    "##  Compute 3-point correlation \n",
    "can be long because it was not optimized nor parallelized"
   ]
  },
  {
   "cell_type": "code",
   "execution_count": null,
   "metadata": {},
   "outputs": [],
   "source": [
    "print(\"* Computing 3-point correlation for different gap values...\")"
   ]
  },
  {
   "cell_type": "code",
   "execution_count": null,
   "metadata": {},
   "outputs": [],
   "source": [
    "def get_counts(haplosubset, points): \n",
    "    counts = np.unique(\n",
    "        np.apply_along_axis(\n",
    "            lambda x: ''.join(map(str, x[points])),\n",
    "            #lambda x: ''.join([str(x[p]) for p in points]),\n",
    "            0, haplosubset),\n",
    "        return_counts=True)\n",
    "    return(counts)\n",
    "\n",
    "def get_frequencies(counts):\n",
    "    l = len(counts[0][0]) # haplotype length\n",
    "    nind = np.sum(counts[1])\n",
    "    f = np.zeros(shape=[2]*l)\n",
    "    for i,allele in enumerate(counts[0]):\n",
    "        f[tuple(map(int, allele))] = counts[1][i]/nind\n",
    "    return f\n",
    "\n",
    "def three_points_cor(haplosubset, out='all'):\n",
    "    F = dict()\n",
    "    for points in [[0],[1],[2],[0,1],[0,2],[1,2],[0,1,2]]:\n",
    "        strpoints = ''.join(map(str, points))\n",
    "        F[strpoints] = get_frequencies(\n",
    "            get_counts(haplosubset, points)\n",
    "        )\n",
    "            \n",
    "    cors = [F['012'][a,b,c] - F['01'][a,b]*F['2'][c] - F['12'][b,c]*F['0'][a] - F['02'][a,c]*F['1'][b] + 2*F['0'][a]*F['1'][b]*F['2'][c] for a,b,c in itertools.product(*[[0,1]]*3)]\n",
    "    if out=='mean':\n",
    "        return(np.mean(cors))\n",
    "    if out=='max':\n",
    "        return(np.max(np.abs(cors)))\n",
    "    if out=='all':\n",
    "        return(cors)\n",
    "    return(ValueError(f\"out={out} not recognized\"))\n",
    "\n",
    "#def mult_three_point_cor(haplo, sampleinfo, cat, picked_three_points):\n",
    "#    return [three_points_cor(haplo[np.ix_(snps,sampleinfo.label==cat)], out='all') for snps in picked_three_points]"
   ]
  },
  {
   "cell_type": "code",
   "execution_count": null,
   "metadata": {},
   "outputs": [],
   "source": [
    "# set the seed so that the same real individual are subsampled (when needed) \n",
    "# to ensure consistency of the scores when adding a new model or a new sumstat\n",
    "np.random.seed(3)\n",
    "random.seed(3)"
   ]
  },
  {
   "cell_type": "code",
   "execution_count": null,
   "metadata": {},
   "outputs": [],
   "source": [
    "# Compute 3 point correlations results for different datasets and different distances between SNPs\n",
    "\n",
    "# pick distance between SNPs at which 3point corr will be computed \n",
    "# (defined in nb of snps)\n",
    "# a gap of -9 means that snp triplets are chosen completely at random (not predefined distance)\n",
    "# for each category we randomly pick 'nsamplesets' triplets\n",
    "\n",
    "# if datasets have different nb of snps, for convenience we will sample \n",
    "# slightly more at the beginning of the chunk \n",
    "\n",
    "gap_vec = [1,4,16,64,256,512,1024,-9]\n",
    "nsamplesets=1000\n",
    "min_nsnp = min([dat.shape[1] for dat in datasets.values()]) \n",
    "cors_meta=dict()\n",
    "for gap in gap_vec:\n",
    "    print(f'\\n gap={gap} SNPs', end=' ')\n",
    "    if gap<0:\n",
    "        # pick 3 random snps\n",
    "        picked_three_points = [random.sample(range(min_nsnp),3) for  _ in range(nsamplesets)]\n",
    "    else:\n",
    "        try:\n",
    "            # pick 3 successive snps spearated by 'gap' SNPs\n",
    "            step = gap+1\n",
    "            picked_three_points = [np.asarray(random.sample(range(min_nsnp-2*step),1))+[0,step,2*step] for  _ in range(nsamplesets)]\n",
    "        except:\n",
    "            continue # if there were not enough SNPs for this gap\n",
    "    cors=dict()\n",
    "    \n",
    "    for cat in infiles.keys():\n",
    "        print(cat, end=' ')\n",
    "        #cors[cat]=[three_points_cor(haplo[np.ix_(snps,sampleinfo.label==cat)], out='all') for snps in picked_three_points]\n",
    "        cors[cat]=[three_points_cor(datasets[cat][:,snps].T, out='all') for snps in picked_three_points]\n",
    "\n",
    "    cors_meta[gap] = cors.copy()"
   ]
  },
  {
   "cell_type": "code",
   "execution_count": null,
   "metadata": {},
   "outputs": [],
   "source": [
    "# print(cors_meta)"
   ]
  },
  {
   "cell_type": "code",
   "execution_count": null,
   "metadata": {},
   "outputs": [],
   "source": [
    "with open(outDir+\"3pointcorr.pkl\", \"wb\") as outfile:\n",
    "    pickle.dump(cors_meta, outfile)"
   ]
  },
  {
   "cell_type": "code",
   "execution_count": null,
   "metadata": {},
   "outputs": [],
   "source": [
    "# Plot 3-point correlations results\n",
    "\n",
    "plt.figure(figsize=(2*len(cors_meta),7))\n",
    "#plt.figure(figsize=(figwi,figwi/2))\n",
    "for i,gap in enumerate((cors_meta).keys()):\n",
    "    ax = plt.subplot(2, np.ceil(len(cors_meta)/2),i+1)\n",
    "    cors = cors_meta[gap]\n",
    "    real = list(np.array(cors['Real']).flat)\n",
    "    lims = [np.min(real), np.max(real)]\n",
    "    for key, val in cors.items():\n",
    "        if key=='Real': continue\n",
    "        val = list(np.array(val).flat) \n",
    "        plu.plotreg(x=real, y=val, keys=['Real',key], \n",
    "                    statname='Correlation', col=colpal[key], ax=ax)      \n",
    "    if gap<0:\n",
    "        plt.title('3-point corr for random SNPs')\n",
    "    else:\n",
    "        plt.title(f'3-point corr for SNPs sep. by {gap} SNPs')\n",
    "\n",
    "    plt.legend(fontsize='small')\n",
    "plt.tight_layout()\n",
    "plt.savefig(outDir+'3point_correlations.jpg',dpi=300) # can pick one of the format\n",
    "plt.savefig(outDir+'3point_correlations.png',dpi=300)\n",
    "plt.savefig(outDir+'3point_correlations.pdf',dpi=300)"
   ]
  },
  {
   "cell_type": "code",
   "execution_count": null,
   "metadata": {},
   "outputs": [],
   "source": [
    "# Same plot with axes limit fixed to (-0.1,0.1) for the sake of comparison\n",
    "\n",
    "plt.figure(figsize=(4*len(cors_meta),14))\n",
    "#plt.figure(figsize=(figwi,figwi/2))\n",
    "for i,gap in enumerate((cors_meta).keys()):\n",
    "    ax = plt.subplot(2, np.ceil(len(cors_meta)/2),i+1)\n",
    "    cors = cors_meta[gap]\n",
    "    real = list(np.array(cors['Real']).flat)\n",
    "    lims = [np.min(real), np.max(real)]\n",
    "    for key, val in cors.items():\n",
    "        if key=='Real': continue\n",
    "        val = list(np.array(val).flat)\n",
    "        plu.plotreg(x=real, y=val, keys=['Real',key], \n",
    "                    statname='Correlation', col=colpal[key], ax=ax)\n",
    "        ax.set_xlim((-.1,.1))\n",
    "        ax.set_ylim((-.1,.1))\n",
    "\n",
    "    if gap<0:\n",
    "        plt.title('3-point corr for random SNPs')\n",
    "    else:\n",
    "        plt.title(f'3-point corr for SNPs sep. by {gap} SNPs')\n",
    "\n",
    "    plt.legend(fontsize='small')\n",
    "plt.tight_layout()\n",
    "\n",
    "plt.savefig(outDir+'3point_correlations_fixlim.pdf',dpi=300)\n",
    "plt.savefig(outDir+'3point_correlations_fixlim.png',dpi=300)\n",
    "plt.savefig(outDir+'3point_correlations_fixlim.jpg',dpi=300)"
   ]
  },
  {
   "cell_type": "code",
   "execution_count": null,
   "metadata": {},
   "outputs": [],
   "source": [
    "print('************************************************************************\\n*** Computation and plotting 3-point cor DONE. Figures saved in {} ***\\n************************************************************************'.format(outDir))"
   ]
  }
 ],
 "metadata": {
  "kernelspec": {
   "display_name": "Python 3",
   "language": "python",
   "name": "python3"
  },
  "language_info": {
   "codemirror_mode": {
    "name": "ipython",
    "version": 3
   },
   "file_extension": ".py",
   "mimetype": "text/x-python",
   "name": "python",
   "nbconvert_exporter": "python",
   "pygments_lexer": "ipython3",
   "version": "3.7.6"
  }
 },
 "nbformat": 4,
 "nbformat_minor": 2
}
