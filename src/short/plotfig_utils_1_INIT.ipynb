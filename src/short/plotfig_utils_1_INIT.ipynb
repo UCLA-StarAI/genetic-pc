{
 "cells": [
  {
   "cell_type": "code",
   "execution_count": null,
   "metadata": {},
   "outputs": [],
   "source": [
    "import os\n",
    "import json\n",
    "import random\n",
    "import numpy as np \n",
    "import pandas as pd\n",
    "\n",
    "import seaborn as sns\n",
    "import matplotlib.pyplot as plt\n",
    "\n",
    "import plot_utils as plu\n"
   ]
  },
  {
   "cell_type": "code",
   "execution_count": null,
   "metadata": {},
   "outputs": [],
   "source": [
    "import matplotlib.pyplot as plt\n",
    "plt.rcParams.update({'font.size': 14})"
   ]
  },
  {
   "cell_type": "markdown",
   "metadata": {},
   "source": [
    "# Load data as np.array saved in a dictionnary\n",
    "also: save settings, compute counts and fixed sites boolean array "
   ]
  },
  {
   "cell_type": "code",
   "execution_count": null,
   "metadata": {},
   "outputs": [],
   "source": [
    "print()\n",
    "print(\"#################### INIT ####################\")"
   ]
  },
  {
   "cell_type": "code",
   "execution_count": null,
   "metadata": {},
   "outputs": [],
   "source": [
    "if not os.path.exists(outDir):\n",
    "    os.makedirs(outDir)\n",
    "    print('- Creating {dir}'.format(dir=outDir))"
   ]
  },
  {
   "cell_type": "code",
   "execution_count": null,
   "metadata": {},
   "outputs": [],
   "source": [
    "print('- color panel is', colpal)\n",
    "sns.set_palette(colpal.values())\n",
    "print('- infile is', infiles.keys())\n",
    "sns.palplot(sns.color_palette())"
   ]
  },
  {
   "cell_type": "code",
   "execution_count": null,
   "metadata": {},
   "outputs": [],
   "source": [
    "# set the seed so that the same real individual are subsampled (when needed) \n",
    "# to ensure consistency of the scores when adding a new model or a new sumstat\n",
    "np.random.seed(3)\n",
    "random.seed(3)\n",
    "\n",
    "# Load  data\n",
    "print(\"- Loading data...\")\n",
    "datasets, keptsnpdic, sample_info = dict(), dict(), dict()\n",
    "for k,fname in infiles.items():\n",
    "        dattmp = pd.read_csv(fname, sep=' ', header=None, compression='infer')\n",
    "        if dattmp.shape[0]> nsub:\n",
    "            dattmp = dattmp.drop(\n",
    "                index = np.sort(np.random.choice(np.arange(dattmp.shape[0]), size=dattmp.shape[0]-nsub, replace=False))\n",
    "            )\n",
    "        # overwrite file first column to set the label name chosen in infiles (eg GAN, etc):\n",
    "        dattmp[0] = k \n",
    "        sample_info[k] =  pd.DataFrame({'label':dattmp[0], 'ind':dattmp[1]})\n",
    "        datasets[k] = np.array(dattmp.loc[:,2:])\n",
    "        \n",
    "        # transformations can be maf filtering, recoding into major=0/minor=1 format\n",
    "        if not transformations is None:\n",
    "            datasets[k], keptsnpdic[k] = plu.datatransform(datasets[k],**transformations)\n",
    "        print('    -', k, dattmp.shape, \"loaded from\", fname)\n",
    "        \n",
    "sampleinfo = pd.DataFrame(np.concatenate(list(sample_info.values())), columns=['label','id'])        \n",
    "print(\"- Dictionnary of datasets:\",len(datasets))\n",
    "#del dattmp        "
   ]
  },
  {
   "cell_type": "code",
   "execution_count": null,
   "metadata": {},
   "outputs": [],
   "source": [
    "# Save settings for future ref\n",
    "json.dump(dict({'infiles':infiles, \n",
    "                'colpal':colpal, \n",
    "                'position_fname':position_fname,\n",
    "                'settings':dict({'outDir':outDir, 'nsub':nsub}),\n",
    "                'script':'new'\n",
    "               }),\n",
    "          open(outDir + 'settings.json', 'w')\n",
    "         )"
   ]
  },
  {
   "cell_type": "code",
   "execution_count": null,
   "metadata": {},
   "outputs": [],
   "source": [
    "# Compute counts of \"1\" allele (could be derived, alternative or minor allele depending on the encoding)\n",
    "# And check whether some sites are fixed\n",
    "# matching_SNPs will be set to True if all datasets have the same nb of SNPs\n",
    "# in this case we automatically consider that there can be a one-to-one comparison\n",
    "# ie 1st SNP of generated datset should mimic the 1st real SNP and so on\n",
    "categ = infiles.keys()\n",
    "ac_d, ac_scaled = dict(), dict()\n",
    "nindiv = dict()\n",
    "is_fixed_dic = dict()\n",
    "\n",
    "print('- Check whether some sites are fixed')\n",
    "for cat, d in datasets.items():\n",
    "    nindiv[cat] = d.shape[0]\n",
    "    ac_d[cat] = np.sum(d, axis=0)\n",
    "    ac_scaled[cat]  = ac_d[cat]/nindiv[cat]\n",
    "    is_fixed_dic[cat] = (ac_d[cat]%nindiv[cat]==0)\n",
    "    print(f\"    - {is_fixed_dic[cat].sum()} fixed sites in {cat}\")\n",
    "\n",
    "# is site fixed in at least one of the dataset ?\n",
    "# requires to have the same number of SNPs for all datasets \n",
    "# (makes sense for \"matching\" SNPs)\n",
    "print('- Is site fixed in at least one of the dataset')\n",
    "if plu.all_same([d.shape[1] for d in datasets.values()]):\n",
    "    matching_SNPs = True\n",
    "    is_fixed = np.vstack([is_fixed_dic[cat] for cat in categ]).any(axis=0)\n",
    "    print(f\"    - {is_fixed.sum()} sites fixed in at least one dataset\")\n",
    "    [print(\"    - {count} fixed SNPs in {cat} that are not fixed in Real\".format(\n",
    "        count= ((is_fixed_dic[cat]) & (~is_fixed_dic['Real'])).sum(),\n",
    "        cat=cat\n",
    "    )) for cat in categ]\n",
    "else:    \n",
    "    matching_SNPs = False\n",
    "    is_fixed = None\n",
    "print(f'- Matching SNPs?: {matching_SNPs}')"
   ]
  },
  {
   "cell_type": "code",
   "execution_count": null,
   "metadata": {},
   "outputs": [],
   "source": [
    "print(\"#################### INIT DONE ####################\")"
   ]
  },
  {
   "cell_type": "code",
   "execution_count": null,
   "metadata": {},
   "outputs": [],
   "source": []
  }
 ],
 "metadata": {
  "kernelspec": {
   "display_name": "Python 3",
   "language": "python",
   "name": "python3"
  },
  "language_info": {
   "codemirror_mode": {
    "name": "ipython",
    "version": 3
   },
   "file_extension": ".py",
   "mimetype": "text/x-python",
   "name": "python",
   "nbconvert_exporter": "python",
   "pygments_lexer": "ipython3",
   "version": "3.7.6"
  },
  "toc-autonumbering": false,
  "toc-showmarkdowntxt": false
 },
 "nbformat": 4,
 "nbformat_minor": 2
}
