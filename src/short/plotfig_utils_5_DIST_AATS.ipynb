{
 "cells": [
  {
   "cell_type": "code",
   "execution_count": null,
   "metadata": {},
   "outputs": [],
   "source": [
    "import numpy as np \n",
    "import pandas as pd\n",
    "import matplotlib.pyplot as plt\n",
    "import seaborn as sns\n",
    "from scipy.spatial import distance\n",
    "import importlib\n",
    "from scipy import stats as scs\n",
    "import computeAATS\n",
    "import plot_utils as plu"
   ]
  },
  {
   "cell_type": "markdown",
   "metadata": {},
   "source": [
    "##  Compute pairwise distances, minimal distances, and AATS"
   ]
  },
  {
   "cell_type": "code",
   "execution_count": null,
   "metadata": {},
   "outputs": [],
   "source": [
    "print()\n",
    "print(\"#################### DIST AATS ####################\")\n",
    "print(\"- Computing pairwise distances, minimal distances, and AATS and saving to compressed files...\")"
   ]
  },
  {
   "cell_type": "code",
   "execution_count": null,
   "metadata": {},
   "outputs": [],
   "source": [
    "importlib.reload(computeAATS) # useful if you changed something in computeAATS in between (when debugging etc)"
   ]
  },
  {
   "cell_type": "code",
   "execution_count": null,
   "metadata": {},
   "outputs": [],
   "source": [
    "# Compute only pairwise distances\n",
    "if not matching_SNPs:\n",
    "    dSS_dic=dict()\n",
    "    plt.figure(figsize=(10,4))\n",
    "    plt.subplot(1,2,1)\n",
    "    for cat, mat in datasets.items():\n",
    "        dAB = distance.cdist(mat, mat, 'cityblock')       \n",
    "        np.fill_diagonal(dAB, np.Inf)\n",
    "        dSS_dic[cat] = dAB.min(axis=1)  #dSS\n",
    "        sns.distplot(dAB[np.triu_indices(dAB.shape[0], k=1)], hist = False, kde = True, \n",
    "                kde_kws = {'linewidth': 3},  #'bw':.02\n",
    "                label = '{} ({} identical pairs)'.format(cat, (dSS_dic[cat]==0).sum()))\n",
    "    plt.title(\"Pairwise distance within each dataset\")\n",
    "    plt.legend()\n",
    "    \n",
    "    plt.subplot(1,2,2)\n",
    "    for cat, d in dSS_dic.items():\n",
    "        sns.distplot(dSS_dic[cat], hist = False, kde = True, \n",
    "                    kde_kws = {'linewidth': 3},  #'bw':.02\n",
    "                    label = cat)\n",
    "    plt.title(\"Minimal pairwise distance within each dataset\")\n",
    "    plt.legend()\n",
    "    \n",
    "    plt.savefig(outDir+\"haplo_pairw_distrib_within.pdf\")\n",
    "    raise SystemExit(\"Not computing other distances because there is no correspondance bewteen SNPs of different datasets\")"
   ]
  },
  {
   "cell_type": "code",
   "execution_count": null,
   "metadata": {},
   "outputs": [],
   "source": [
    "haplo = np.concatenate(list(datasets.values())).T  # orientation of scikit allele"
   ]
  },
  {
   "cell_type": "code",
   "execution_count": null,
   "metadata": {},
   "outputs": [],
   "source": [
    "# Compute AATS with reference being Test sets Test1 and Test2 if they exist\n",
    "\n",
    "# Variable defined in the main notebook but could be overwritten by:\n",
    "# boolComputeAATS=True # False\n",
    "outFilePrefix=''\n",
    "if AATS:\n",
    "    outFilePrefix=''\n",
    "    for ref in ['Test1', 'Test2']:\n",
    "        if not ref in infiles.keys(): continue\n",
    "        if boolComputeAATS:\n",
    "            print(\"Computing AATS with ref \" + ref)\n",
    "            AA, MINDIST = computeAATS.computeAAandDist(\n",
    "                pd.DataFrame(haplo.T), \n",
    "                sampleinfo.label, \n",
    "                infiles.keys(), \n",
    "                refCateg=ref, \n",
    "                saveAllDist=True, \n",
    "                outDir=outDir, \n",
    "                outFilePrefix=outFilePrefix)\n",
    "            \n",
    "            # save AA and MINDIST pd.DataFrame to csv\n",
    "            # np.array of all pariwise distances are saved as npz automatically when calling computeAAandDist with saveAllDist=True\n",
    "            AA.to_csv(outDir+f'AA_{ref}.csv.bz2',index=None)\n",
    "            MINDIST.to_csv(outDir+f'MINDIST_{ref}.csv.bz2', index=None)\n",
    "        else:\n",
    "            print(\"Loading precomputed AATS and MINDIST\")\n",
    "            AA = pd.read_csv(outDir+f'AA_{ref}.csv.bz2')\n",
    "            MINDIST = pd.read_csv(outDir+f'MINDIST_{ref}.csv.bz2')\n"
   ]
  },
  {
   "cell_type": "code",
   "execution_count": null,
   "metadata": {},
   "outputs": [],
   "source": [
    "# Compute AATS with reference being 'Real' (supposed to be the label of the Training set)\n",
    "\n",
    "# Variable defined in the main notebook but could be overwritten by:\n",
    "# boolComputeAATS=True # False\n",
    "if AATS:\n",
    "    print(f'boolComputeAATS: {boolComputeAATS}')\n",
    "    if boolComputeAATS:\n",
    "        print(\"Computing AATS\")\n",
    "        AA, MINDIST = computeAATS.computeAAandDist(\n",
    "            pd.DataFrame(haplo.T), \n",
    "            sampleinfo.label, \n",
    "            infiles.keys(), \n",
    "            saveAllDist=True, \n",
    "            outDir=outDir, \n",
    "            outFilePrefix=outFilePrefix)\n",
    "        # save AA and MINDIST pd.DataFrame to csv\n",
    "        # np.array of all pariwise distances are saved as npz automatically when calling computeAAandDist with saveAllDist=True\n",
    "        AA.to_csv(outDir+'AA.csv.bz2',index=None)\n",
    "        MINDIST.to_csv(outDir+'MINDIST.csv.bz2', index=None)\n",
    "    else:\n",
    "        print(\"Loading precomputed AATS and MINDIST\")\n",
    "        AA = pd.read_csv(outDir+'AA.csv.bz2')\n",
    "        MINDIST = pd.read_csv(outDir+'MINDIST.csv.bz2')\n",
    "    print('AATS obtained')"
   ]
  },
  {
   "cell_type": "code",
   "execution_count": null,
   "metadata": {},
   "outputs": [],
   "source": [
    "if AATS:\n",
    "    # if already computed we can load the tables:\n",
    "    AA = pd.read_csv(outDir+'AA.csv.bz2')\n",
    "    MINDIST = pd.read_csv(outDir+'MINDIST.csv.bz2')"
   ]
  },
  {
   "cell_type": "markdown",
   "metadata": {},
   "source": [
    "### Plot distribution of Pairwise Differences"
   ]
  },
  {
   "cell_type": "code",
   "execution_count": null,
   "metadata": {},
   "outputs": [],
   "source": [
    "#### Distribution WITHIN categories\n",
    "if DIST:\n",
    "    W = pd.DataFrame(columns=['stat', 'statistic', 'pvalue', 'label','comparaison'])\n",
    "\n",
    "    plt.figure(figsize=(18,9))\n",
    "    plt.subplot(1,2,1)\n",
    "    for i,cat in enumerate(categ):\n",
    "        subset = (np.load('{}/{}dist_{}_{}.npz'.format(outDir, outFilePrefix, cat, cat)))['dist']\n",
    "        if cat=='Real':\n",
    "            subsetreal = subset\n",
    "            continue\n",
    "        sns_plt = sns.distplot(subset, hist = False, kde = True, \n",
    "                    kde_kws = {'linewidth': 3},  #'bw':.02\n",
    "                    # label = '{}'.format(cat)\n",
    "                    )\n",
    "\n",
    "        sc = scs.wasserstein_distance(subsetreal,subset)\n",
    "        W = W.append({'stat':'wasserstein', 'statistic':sc, 'pvalue':None,  'label':cat, 'comparaison':'within'}, ignore_index=True)\n",
    "    plt.title(\"Haplotypic pairwise distance within each dataset\")\n",
    "    #plt.savefig(outDir+\"haplo_pairw_distrib_within_{}_simplify.pdf\".format(\"-\".join(categ)))\n",
    "    subsetreal=None\n",
    "\n",
    "    #### Distribution BETWEEN categories\n",
    "    plt.subplot(1,2,2)\n",
    "    categ = infiles.keys()\n",
    "    for i,cat in enumerate(categ):\n",
    "            subset = (np.load('{}/{}dist_{}_{}.npz'.format(outDir, outFilePrefix, cat, 'Real')))['dist']\n",
    "            if cat=='Real':\n",
    "                subsetreal = subset\n",
    "                continue\n",
    "            sns.distplot(subset, hist = False, kde = True, \n",
    "                    kde_kws = {'linewidth': 3},  #'bw':.02\n",
    "                    label = '{}'.format(cat))\n",
    "            \n",
    "            sc = scs.wasserstein_distance(subsetreal,subset)\n",
    "            W = W.append({'stat':'wasserstein','statistic':sc, 'pvalue':None,  'label':cat, 'comparaison':'between'}, ignore_index=True)\n",
    "        \n",
    "    plt.title(\"Haplotypic pairwise distance between datasets and ground truth\")\n",
    "    plt.tight_layout()\n",
    "    plt.savefig(outDir+\"haplo_pairw_distrib.pdf\".format(\"-\".join(categ)))\n",
    "    print('    - Save', outDir+\"haplo_pairw_distrib.pdf\".format(\"-\".join(categ)))\n",
    "    scores = pd.concat([W])\n",
    "\n",
    "    print(W)"
   ]
  },
  {
   "cell_type": "markdown",
   "metadata": {},
   "source": [
    "### Plot distance to nearest neighbor (ie minimal distance)"
   ]
  },
  {
   "cell_type": "code",
   "execution_count": null,
   "metadata": {},
   "outputs": [],
   "source": [
    "DISTmelt = MINDIST.melt(id_vars='cat').rename(columns=str.title)\n",
    "g = sns.FacetGrid(DISTmelt, hue=\"Cat\", height=7, col='Variable',hue_order=infiles.keys())\n",
    "# cut=0 : negative values have no meaning for distances, however be aware that this might accidently hide real picks at zero (due to copying for example)\n",
    "# check whether the full distribution is  similar or not (next cell)\n",
    "g.map(sns.distplot, \"Value\", hist=False, kde = True, kde_kws = {'linewidth': 4, 'cut':0}) \n",
    "g.add_legend()\n",
    "plt.savefig(outDir+\"distrib_minimal_distances_cut.pdf\")"
   ]
  },
  {
   "cell_type": "code",
   "execution_count": null,
   "metadata": {},
   "outputs": [],
   "source": [
    "DISTmelt = MINDIST.melt(id_vars='cat').rename(columns=str.title)\n",
    "g = sns.FacetGrid(DISTmelt, hue=\"Cat\", height=7, col='Variable',hue_order=infiles.keys())\n",
    "g.map(sns.distplot, \"Value\", hist=False, kde = True, kde_kws = {'linewidth': 4})\n",
    "g.add_legend()\n",
    "plt.savefig(outDir+\"distrib_minimal_distances_full.pdf\")"
   ]
  },
  {
   "cell_type": "code",
   "execution_count": null,
   "metadata": {},
   "outputs": [],
   "source": [
    "W = pd.DataFrame(columns=['stat', 'statistic', 'pvalue', 'label','comparaison'])\n",
    "for cat in infiles.keys():\n",
    "    for method in ['dTS','dST']:\n",
    "        real = MINDIST[method][MINDIST.cat=='Real']\n",
    "        sc = scs.wasserstein_distance(real,MINDIST[method][MINDIST.cat==cat])\n",
    "        W = W.append({'stat':'wasserstein','statistic':sc, 'pvalue':None,  'label':cat, 'comparaison':method}, ignore_index=True)\n",
    "scores = pd.concat([scores,W])\n",
    "scores.to_csv(outDir+\"scores_pairwise_distances.csv\",index=False)"
   ]
  },
  {
   "cell_type": "markdown",
   "metadata": {},
   "source": [
    "## AATS"
   ]
  },
  {
   "cell_type": "code",
   "execution_count": null,
   "metadata": {},
   "outputs": [],
   "source": [
    "print(AA)"
   ]
  },
  {
   "cell_type": "code",
   "execution_count": null,
   "metadata": {
    "scrolled": true
   },
   "outputs": [],
   "source": [
    "#### Barplot of AATS scores (and subscore) for each dataset\n",
    "# AATS = (AAtruth+AAsyn)/2\n",
    "plt.figure(figsize=(1.5*len(categ), 6))\n",
    "\n",
    "sns.barplot(x='Cat', y='Value', hue='Variable', palette=sns.color_palette('colorblind'),\n",
    "            data=(AA.drop(columns=['PrivacyLoss','ref'], errors='ignore')).melt(id_vars='cat').rename(columns=str.title))\n",
    "plt.axhline(0.5, color='black')\n",
    "if 'Real_test' in AA.cat.values:\n",
    "    plt.axhline(np.float(AA[AA.cat=='Real_test'].AATS), color=sns.color_palette()[0], ls='--')\n",
    "plt.ylim(0,1.1)\n",
    "plt.title(\"Nearest Neighbor Adversarial Accuracy on training (AATS) and its components\")\n",
    "plt.savefig(outDir + \"AATS_scores.pdf\")"
   ]
  },
  {
   "cell_type": "code",
   "execution_count": null,
   "metadata": {},
   "outputs": [],
   "source": [
    "AA"
   ]
  },
  {
   "cell_type": "markdown",
   "metadata": {},
   "source": [
    "#### Privacy Loss\n",
    "Privacy Loss = Test AA -Train AA\n",
    "\n",
    "It can be computed only if there was a Test set in the dataset list  \n",
    "Below the Test was set to 'Test2' but this can be changed\n"
   ]
  },
  {
   "cell_type": "code",
   "execution_count": null,
   "metadata": {},
   "outputs": [],
   "source": [
    "Test = '_Test2'\n",
    "Train = '' # means Training set is Real\n",
    "dfPL = plu.plotPrivacyLoss(Train, Test, outDir, colpal, allcolpal)\n",
    "dfPL"
   ]
  },
  {
   "cell_type": "code",
   "execution_count": null,
   "metadata": {},
   "outputs": [],
   "source": [
    "# Compute PL for the real dataset Test1\n",
    "# Useful if an RBM with alternative training scheme (cf paper) is in the list of models\n",
    "# Because Test1 served for initializing the RBM sampling in this case\n",
    "Test = '_Test2'\n",
    "Train = '_Test1' \n",
    "dfPL = plu.plotPrivacyLoss(Train, Test, outDir, colpal, allcolpal)\n",
    "dfPL"
   ]
  },
  {
   "cell_type": "code",
   "execution_count": null,
   "metadata": {},
   "outputs": [],
   "source": [
    "print('************************************************************************\\n*** Computation and plotting DIST/AATS DONE. Figures saved in {} ***\\n************************************************************************'.format(outDir))"
   ]
  }
 ],
 "metadata": {
  "kernelspec": {
   "display_name": "Python 3",
   "language": "python",
   "name": "python3"
  },
  "language_info": {
   "codemirror_mode": {
    "name": "ipython",
    "version": 3
   },
   "file_extension": ".py",
   "mimetype": "text/x-python",
   "name": "python",
   "nbconvert_exporter": "python",
   "pygments_lexer": "ipython3",
   "version": "3.7.6"
  },
  "toc-autonumbering": false,
  "toc-showmarkdowntxt": false
 },
 "nbformat": 4,
 "nbformat_minor": 2
}
