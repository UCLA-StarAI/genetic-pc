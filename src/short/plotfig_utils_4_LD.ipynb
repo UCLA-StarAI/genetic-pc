{
 "cells": [
  {
   "cell_type": "code",
   "execution_count": null,
   "metadata": {},
   "outputs": [],
   "source": [
    "import numpy as np \n",
    "import pandas as pd\n",
    "import matplotlib.pyplot as plt\n",
    "import seaborn as sns\n",
    "from matplotlib import cm as cm\n",
    "from scipy.stats import binned_statistic\n",
    "from scipy.stats import sem\n",
    "import random\n",
    "import copy\n",
    "import warnings\n",
    "import plot_utils as plu"
   ]
  },
  {
   "cell_type": "markdown",
   "metadata": {
    "toc-hr-collapsed": false
   },
   "source": [
    "## LD \n",
    "Throughout the notebook, LD is measured by r^2 (the classical correlation coefficient)"
   ]
  },
  {
   "cell_type": "code",
   "execution_count": null,
   "metadata": {},
   "outputs": [],
   "source": [
    "print(\"* Computing and plotting LD...\")"
   ]
  },
  {
   "cell_type": "markdown",
   "metadata": {},
   "source": [
    "#### Compute correlation between all pairs of SNPs for each generated/real dataset"
   ]
  },
  {
   "cell_type": "code",
   "execution_count": null,
   "metadata": {},
   "outputs": [],
   "source": [
    "categ = infiles.keys()\n",
    "hcor_snp = dict()\n",
    "for i,cat in enumerate(categ):\n",
    "    print(cat)\n",
    "    with np.errstate(divide='ignore', invalid='ignore'): \n",
    "        # Catch warnings due to fixed sites in dataset (the correlation value will be np.nan for pairs involving these sites)\n",
    "        hcor_snp[cat] = np.corrcoef(datasets[cat], rowvar=False)**2  # r2"
   ]
  },
  {
   "cell_type": "markdown",
   "metadata": {
    "toc-hr-collapsed": true
   },
   "source": [
    "### Plot LD or COV binned by distance between SNPs \n",
    "- LD is binned into 'nbins'\n",
    "- that are cut on a logscale if logscale=True\n",
    "- For regressions plot of non-binned LD, we randomly subsample 'nsamplesets' pairs for computation/visualization convenience\n"
   ]
  },
  {
   "cell_type": "code",
   "execution_count": null,
   "metadata": {},
   "outputs": [],
   "source": [
    "_, region_len, snps_on_same_chrom = plu.get_dist(position_fname['Real'], region_len_only=True,  kept_preprocessing=keptsnpdic['Real'])\n",
    "\n",
    "nbins=50\n",
    "nsamplesets=10000\n",
    "logscale=True\n",
    "bins = nbins\n",
    "binsPerDist = nbins\n",
    "if logscale: binsPerDist = np.logspace(np.log(1), np.log(region_len), nbins)"
   ]
  },
  {
   "cell_type": "code",
   "execution_count": null,
   "metadata": {},
   "outputs": [],
   "source": [
    "# Compute LD binned by distance\n",
    "# Take only sites that are SNPs in all datasets (intersect)\n",
    "# (eg intersection of SNPs in Real, SNPs in GAN, SNPs in RBM etc)\n",
    "# -> Makes sense only if there is a correspondence between sites\n",
    "\n",
    "if matching_SNPs:    \n",
    "    binnedLD = dict()\n",
    "    binnedPerDistLD = dict()\n",
    "    kept_snp = ~is_fixed\n",
    "    n_kept_snp = np.sum(kept_snp)\n",
    "    realdist = plu.get_dist(position_fname['Real'], kept_preprocessing=keptsnpdic['Real'], kept_snp=kept_snp)[0]\n",
    "    mat = hcor_snp['Real']\n",
    "    # filter and flatten\n",
    "    flatreal = (mat[np.ix_(kept_snp,kept_snp)])[np.triu_indices(n_kept_snp)]\n",
    "    isnanReal = np.isnan(flatreal)\n",
    "    i=1\n",
    "    realdist = plu.get_dist(position_fname['Real'],  kept_preprocessing=keptsnpdic['Real'], kept_snp=kept_snp)[0]\n",
    "    hcor_snp_ref = hcor_snp.pop('Real')\n",
    "    fig, axs = plt.subplots(nrows=2, ncols=len(hcor_snp), \n",
    "                        figsize = (len(hcor_snp)*5, 2*5), constrained_layout=True)\n",
    "    for ite, (cat, mat) in enumerate(hcor_snp.items()):\n",
    "        print(ite)\n",
    "        flathcor = (mat[np.ix_(kept_snp,kept_snp)])[np.triu_indices(n_kept_snp)]\n",
    "        isnan = np.isnan(flathcor)\n",
    "        curr_dist = plu.get_dist(position_fname[cat],  kept_preprocessing=keptsnpdic[cat], kept_snp=kept_snp)[0]\n",
    "\n",
    "        # For each dataset LD pairs are stratified by SNP distance and cut into 'nbins' bins\n",
    "        # bin per SNP distance\n",
    "        ld = binned_statistic(curr_dist[~isnan], flathcor[~isnan], statistic = 'mean', bins=binsPerDist)\n",
    "        with warnings.catch_warnings():\n",
    "            warnings.simplefilter(\"ignore\", category=RuntimeWarning) # so that empty bins do not raise a warning\n",
    "            binnedPerDistLD[cat] = pd.DataFrame({'bin_edges':ld.bin_edges[:-1],\n",
    "                                          'LD': ld.statistic,\n",
    "                                          #'sd': binned_statistic(curr_dist[~isnan], flathcor[~isnan], statistic = 'std', bins=binsPerDist).statistic,\n",
    "                                          'sem': binned_statistic(curr_dist[~isnan], flathcor[~isnan], statistic = sem, bins=binsPerDist).statistic,\n",
    "                                          'cat': cat, 'logscale': logscale})\n",
    "\n",
    "        # For each dataset LD pairs are stratified by LD values in Real and cut into 'nbins' bins\n",
    "        # binnedLD contains the average, std of LD values in each bin\n",
    "        isnan = np.isnan(flathcor) |  np.isnan(flatreal) \n",
    "        ld = binned_statistic(flatreal[~isnan], flathcor[~isnan], statistic = 'mean', bins=bins)\n",
    "        with warnings.catch_warnings():\n",
    "            warnings.simplefilter(\"ignore\", category=RuntimeWarning) # so that empty bins do not raise a warning\n",
    "            binnedLD[cat] = pd.DataFrame({'bin_edges':ld.bin_edges[:-1],\n",
    "                                          'LD': ld.statistic,\n",
    "                                          'sd': binned_statistic(flatreal[~isnan], flathcor[~isnan], statistic = 'std', bins=bins).statistic,\n",
    "                                          'sem': binned_statistic(flatreal[~isnan], flathcor[~isnan], statistic = sem, bins=bins).statistic,\n",
    "                                          'cat': cat, 'logscale': logscale})\n",
    "\n",
    "        # Plotting quantiles ?\n",
    "        plu.plotregquant(x=flatreal, y=flathcor, \n",
    "                         keys=['Truth',cat], statname='LD', col=colpal[cat], \n",
    "                         step=0.0001,\n",
    "                         ax=axs[1][ite])\n",
    "        axs[1][ite].set_title(str(f'Quantiles LD {cat} vs Truth'))\n",
    "\n",
    "        if matching_SNPs:\n",
    "            # removing nan values and subsampling before doing the regression to have a reasonnable number of points\n",
    "            isnanInter = isnanReal | isnan\n",
    "            keepforplotreg = random.sample(list(np.where(~isnanInter)[0]), nsamplesets)\n",
    "            plu.plotreg(x=flatreal[keepforplotreg], y=flathcor[keepforplotreg], \n",
    "                        keys=['Truth',cat], statname='LD', col=colpal[cat], \n",
    "                        ax=axs[0][ite])\n",
    "            i+=1\n",
    "            axs[0][ite].set_title(f'LD {cat} vs Truth')\n",
    "    plt.savefig(outDir + \"LD_generated_vs_real_intersectSNP.pdf\")"
   ]
  },
  {
   "cell_type": "code",
   "execution_count": null,
   "metadata": {},
   "outputs": [],
   "source": [
    "# Plot LD as a fonction of binned distances\n",
    "# except when SNPs are spread accross different chromosomes\n",
    "if matching_SNPs: #(position_fname['Real']!=\"1kg_real/805snps.legend\"):\n",
    "    tmp_real = colpal.pop('Real')\n",
    "    print(colpal)\n",
    "    sns.set_palette(colpal.values())\n",
    "\n",
    "    sns.palplot(sns.color_palette())\n",
    "    plt.figure(figsize=(7,7))\n",
    "    # binnedPerDistLD.pop('Real')\n",
    "    print(binnedPerDistLD.keys())\n",
    "    for cat, bld in binnedPerDistLD.items():\n",
    "        plt.errorbar(bld.bin_edges.values, bld.LD.values, bld['sem'].values, label=cat, alpha=.65,linewidth=3)\n",
    "    plt.title(\"Binned LD +/- 1 sem\")\n",
    "    if (logscale): plt.xscale('log')   \n",
    "    #plt.yscale('log')\n",
    "    plt.xlabel(\"Distance between SNPs (bp) [Left bound of distance bin]\")\n",
    "    plt.ylabel(\"Average LD in bin\")\n",
    "    plt.legend()\n",
    "    plt.savefig(outDir + \"correlation_vs_dist_intersectSNP.pdf\")\n",
    "    colpal['Real'] = tmp_real"
   ]
  },
  {
   "cell_type": "code",
   "execution_count": null,
   "metadata": {},
   "outputs": [],
   "source": [
    "# For each dataset LD pairs were stratified by LD values in Real, cut into nbins bins\n",
    "# binnedLD contains the average LD in each bin\n",
    "# Plot generated average LD as a function of the real average LD in the bins\n",
    "# if matching_SNPs:\n",
    "#     plt.figure(figsize=(10,10))\n",
    "#     for cat, bld in binnedLD.items():\n",
    "#         plt.errorbar(bld.bin_edges.values, bld.LD.values, bld['sem'].values, label=cat, alpha=1, marker='o')\n",
    "#     plt.title(\"Binned LD +/- 1 sem\")\n",
    "#     #if (logscale): plt.xscale('log')\n",
    "#     plt.xlabel(\"Bins (LD in Real)\")\n",
    "#     plt.ylabel(\"Average LD in bin\")\n",
    "#     plt.legend()\n",
    "#     plt.savefig(outDir+'LD_{}bins_{}fixedremoved.pdf'.format(nbins,'logdist_' if logscale else ''))"
   ]
  },
  {
   "cell_type": "markdown",
   "metadata": {},
   "source": [
    "#### Plotting LD (block) matrix\n",
    "- LD is r2\n",
    "- if mirror=True plot the symmetrical matrix for each category\n",
    "- if mirror=False plot the Generated LD in upper triangle versus the Real LD in lower triangle\n",
    "- if diff=True plot the difference between generated and true LD values, else plot regular LD values"
   ]
  },
  {
   "cell_type": "code",
   "execution_count": null,
   "metadata": {},
   "outputs": [],
   "source": [
    "print(\"* Plotting LD block matrices...\")\n",
    "\n",
    "# Set edges of the region for which to plot LD block matrix (l=0, f='end') for full region\n",
    "# not used as for now apart from the filename\n",
    "l_bound=None\n",
    "r_bound=None"
   ]
  },
  {
   "cell_type": "code",
   "execution_count": null,
   "metadata": {},
   "outputs": [],
   "source": [
    "\n",
    "# mirror (bool): plot symmetrical matrix or generated vs real?\n",
    "# diff (bool): plot LD values or generated minus real ?\n",
    "\n",
    "hcor_snp['Real'] = hcor_snp_ref\n",
    "print(hcor_snp.keys())\n",
    "# for snpcode in (\"fullSNP\", \"intersectSNP\"):\n",
    "#     for (mirror, diff) in ((True,False),(True,True), (False,False)):\n",
    "hcor_snp.pop('GAN')\n",
    "hcor_snp.pop('RBM')\n",
    "# hcor_snp.pop('Strudel')\n",
    "# hcor_snp.pop('Indep')\n",
    "# hcor_snp.pop('Markov')\n",
    "hcor_snp.pop('Truth')\n",
    "\n",
    "for snpcode in (\"fullSNP\", \"intersectSNP\"):\n",
    "    for (mirror, diff) in ((True,False),(True,True), (False,False)):\n",
    "        if (not matching_SNPs) and (snpcode==\"fullSNP\") and (diff or not mirror):\n",
    "            print(f'Warning: not plotting LD for {snpcode} mirror={mirror} diff={diff}',\n",
    "                  ' because SNP have no one-to-one correspondence and matrices might have different sizes')\n",
    "        elif (matching_SNPs) and (snpcode==\"fullSNP\"):\n",
    "            pass\n",
    "        else:\n",
    "            outfilename = f\"LD_HEATMAP_{snpcode}_bounds={l_bound}-{r_bound}_mirror={mirror}_diff={diff}.pdf\" \n",
    "            #print(outfilename)\n",
    "            fig = plt.figure(figsize=(7,7))\n",
    "            plu.plotLDblock(hcor_snp, \n",
    "                            left=l_bound, right=r_bound,  # None, None -> takes all SNPs\n",
    "                            mirror=mirror, diff=diff,\n",
    "                            is_fixed=is_fixed, is_fixed_dic=is_fixed_dic,\n",
    "                            suptitle_kws={'t':outfilename}\n",
    "                           )\n",
    "            plt.tight_layout()\n",
    "            plt.savefig(outDir+outfilename)\n",
    "            plt.show()\n"
   ]
  },
  {
   "cell_type": "code",
   "execution_count": null,
   "metadata": {},
   "outputs": [],
   "source": [
    "print('****************************************************************\\n*** Computation and plotting LD DONE. Figures saved in {} ***\\n****************************************************************'.format(outDir))"
   ]
  },
  {
   "cell_type": "code",
   "execution_count": null,
   "metadata": {},
   "outputs": [],
   "source": []
  }
 ],
 "metadata": {
  "interpreter": {
   "hash": "fd79f911c2d45fc4418704ce15f7296bc75811b04b5135772199ee1ccc3f6b00"
  },
  "kernelspec": {
   "display_name": "Python 3.7.6 64-bit ('base': conda)",
   "name": "python3"
  },
  "language_info": {
   "codemirror_mode": {
    "name": "ipython",
    "version": 3
   },
   "file_extension": ".py",
   "mimetype": "text/x-python",
   "name": "python",
   "nbconvert_exporter": "python",
   "pygments_lexer": "ipython3",
   "version": "3.7.6"
  },
  "toc-autonumbering": false,
  "toc-showmarkdowntxt": false
 },
 "nbformat": 4,
 "nbformat_minor": 2
}
